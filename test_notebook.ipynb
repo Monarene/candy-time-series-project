{
 "cells": [
  {
   "cell_type": "code",
   "execution_count": 47,
   "metadata": {},
   "outputs": [],
   "source": [
    "#importing the required modules\n",
    "import pandas as pd\n",
    "import matplotlib.pyplot as plt\n"
   ]
  },
  {
   "cell_type": "code",
   "execution_count": 48,
   "metadata": {},
   "outputs": [],
   "source": [
    "dataset = pd.read_csv('candy_production.csv', index_col = 0,parse_dates = [0], squeeze = True)"
   ]
  },
  {
   "cell_type": "code",
   "execution_count": 49,
   "metadata": {
    "scrolled": true
   },
   "outputs": [
    {
     "data": {
      "text/plain": [
       "observation_date\n",
       "1972-01-01    85.6945\n",
       "1972-02-01    71.8200\n",
       "1972-03-01    66.0229\n",
       "1972-04-01    64.5645\n",
       "1972-05-01    65.0100\n",
       "Name: IPG3113N, dtype: float64"
      ]
     },
     "execution_count": 49,
     "metadata": {},
     "output_type": "execute_result"
    }
   ],
   "source": [
    "dataset.head()"
   ]
  },
  {
   "cell_type": "code",
   "execution_count": 50,
   "metadata": {
    "scrolled": true
   },
   "outputs": [
    {
     "data": {
      "text/plain": [
       "numpy.float64"
      ]
     },
     "execution_count": 50,
     "metadata": {},
     "output_type": "execute_result"
    }
   ],
   "source": [
    "type(dataset[0])"
   ]
  },
  {
   "cell_type": "code",
   "execution_count": 51,
   "metadata": {
    "scrolled": true
   },
   "outputs": [
    {
     "data": {
      "text/plain": [
       "observation_date\n",
       "1972-01-01     85.6945\n",
       "1972-02-01     71.8200\n",
       "1972-03-01     66.0229\n",
       "1972-04-01     64.5645\n",
       "1972-05-01     65.0100\n",
       "1972-06-01     67.6467\n",
       "1972-07-01     69.0429\n",
       "1972-08-01     70.8370\n",
       "1972-09-01     75.0462\n",
       "1972-10-01    106.9289\n",
       "Name: IPG3113N, dtype: float64"
      ]
     },
     "execution_count": 51,
     "metadata": {},
     "output_type": "execute_result"
    }
   ],
   "source": [
    "dataset.head(10)"
   ]
  },
  {
   "cell_type": "code",
   "execution_count": 52,
   "metadata": {},
   "outputs": [
    {
     "data": {
      "text/plain": [
       "observation_date\n",
       "1972-01-31   NaN\n",
       "1972-02-29   NaN\n",
       "1972-03-31   NaN\n",
       "1972-04-30   NaN\n",
       "1972-05-31   NaN\n",
       "1972-06-30   NaN\n",
       "1972-07-31   NaN\n",
       "1972-08-31   NaN\n",
       "1972-09-30   NaN\n",
       "1972-10-31   NaN\n",
       "Freq: M, Name: IPG3113N, dtype: float64"
      ]
     },
     "execution_count": 52,
     "metadata": {},
     "output_type": "execute_result"
    }
   ],
   "source": [
    "upsampled_dataset = dataset.resample('M').asfreq()\n",
    "upsampled_dataset.head(10)"
   ]
  },
  {
   "cell_type": "code",
   "execution_count": 53,
   "metadata": {
    "scrolled": true
   },
   "outputs": [
    {
     "data": {
      "text/plain": [
       "observation_date\n",
       "1972-01-01   NaN\n",
       "1972-01-31   NaN\n",
       "1972-02-01   NaN\n",
       "1972-02-29   NaN\n",
       "1972-03-01   NaN\n",
       "Name: IPG3113N, dtype: float64"
      ]
     },
     "execution_count": 53,
     "metadata": {},
     "output_type": "execute_result"
    }
   ],
   "source": [
    "the_final_ds = upsampled_dataset + dataset\n",
    "the_final_ds.head()"
   ]
  },
  {
   "cell_type": "code",
   "execution_count": 54,
   "metadata": {
    "scrolled": false
   },
   "outputs": [
    {
     "data": {
      "text/plain": [
       "observation_date\n",
       "1972-01-01    85.6945\n",
       "1972-01-31        NaN\n",
       "1972-02-01    71.8200\n",
       "1972-02-29        NaN\n",
       "1972-03-01    66.0229\n",
       "Name: IPG3113N, dtype: float64"
      ]
     },
     "execution_count": 54,
     "metadata": {},
     "output_type": "execute_result"
    }
   ],
   "source": [
    "the_final_ds[dataset.index] = dataset\n",
    "#the_final_ds.plot()\n",
    "the_final_ds.head()"
   ]
  },
  {
   "cell_type": "code",
   "execution_count": 55,
   "metadata": {
    "scrolled": true
   },
   "outputs": [
    {
     "data": {
      "text/plain": [
       "(observation_date\n",
       " 1972-01-01    85.69450\n",
       " 1972-01-31    78.75725\n",
       " 1972-02-01    71.82000\n",
       " 1972-02-29    68.92145\n",
       " 1972-03-01    66.02290\n",
       " Name: IPG3113N, dtype: float64, 1096)"
      ]
     },
     "execution_count": 55,
     "metadata": {},
     "output_type": "execute_result"
    }
   ],
   "source": [
    "interpolated = the_final_ds.interpolate(method='linear')\n",
    "#interpolated.to_csv('final_candy_dataset.csv')\n",
    "interpolated.head(), len(interpolated)"
   ]
  },
  {
   "cell_type": "code",
   "execution_count": 56,
   "metadata": {
    "scrolled": true
   },
   "outputs": [
    {
     "data": {
      "text/plain": [
       "observation_date\n",
       "1972-01-01    85.69450\n",
       "1972-01-31    78.75725\n",
       "1972-02-01    71.82000\n",
       "1972-02-29    68.92145\n",
       "1972-03-01    66.02290\n",
       "Name: IPG3113N, dtype: float64"
      ]
     },
     "execution_count": 56,
     "metadata": {},
     "output_type": "execute_result"
    }
   ],
   "source": [
    "#Part 2  - This is starting the Exploratory Data analysis\n",
    "\n",
    "#bringing in the dataset we are testing\n",
    "this_dataset = pd.read_csv('final_candy_dataset.csv', index_col = 0,parse_dates = [0], squeeze = True)\n",
    "this_dataset.head()"
   ]
  },
  {
   "cell_type": "code",
   "execution_count": 57,
   "metadata": {},
   "outputs": [
    {
     "data": {
      "image/png": "[encoded data removed]",
      "text/plain": [
       "<Figure size 432x288 with 1 Axes>"
      ]
     },
     "metadata": {
      "needs_background": "light"
     },
     "output_type": "display_data"
    }
   ],
   "source": [
    "#A plotting of the Origina dataset\n",
    "dataset.plot()\n",
    "plt.show()"
   ]
  },
  {
   "cell_type": "code",
   "execution_count": 58,
   "metadata": {},
   "outputs": [
    {
     "data": {
      "image/png": "[encoded data removed]",
      "text/plain": [
       "<Figure size 432x288 with 1 Axes>"
      ]
     },
     "metadata": {
      "needs_background": "light"
     },
     "output_type": "display_data"
    }
   ],
   "source": [
    "#a plkotting of the new dataset\n",
    "this_dataset.plot()\n",
    "plt.show()"
   ]
  },
  {
   "cell_type": "code",
   "execution_count": 59,
   "metadata": {},
   "outputs": [
    {
     "data": {
      "text/plain": [
       "count    548.000000\n",
       "mean     100.662524\n",
       "std       18.052931\n",
       "min       50.668900\n",
       "25%       87.862475\n",
       "50%      102.278550\n",
       "75%      114.691900\n",
       "max      139.915300\n",
       "Name: IPG3113N, dtype: float64"
      ]
     },
     "execution_count": 59,
     "metadata": {},
     "output_type": "execute_result"
    }
   ],
   "source": [
    "#Let us have a look at Quantitative metrics\n",
    "dataset.describe()"
   ]
  },
  {
   "cell_type": "code",
   "execution_count": 60,
   "metadata": {},
   "outputs": [
    {
     "data": {
      "text/plain": [
       "count    1096.000000\n",
       "mean      100.675465\n",
       "std        17.760245\n",
       "min        50.668900\n",
       "25%        88.084075\n",
       "50%       102.379800\n",
       "75%       114.093325\n",
       "max       139.915300\n",
       "Name: IPG3113N, dtype: float64"
      ]
     },
     "execution_count": 60,
     "metadata": {},
     "output_type": "execute_result"
    }
   ],
   "source": [
    "#doing EDA on the time series dataset\n",
    "this_dataset.describe()"
   ]
  },
  {
   "cell_type": "code",
   "execution_count": 61,
   "metadata": {},
   "outputs": [
    {
     "data": {
      "text/plain": [
       "observation_date\n",
       "1972-12-31    79.631533\n",
       "1973-12-31    83.131733\n",
       "1974-12-31    80.024617\n",
       "1975-12-31    71.603994\n",
       "1976-12-31    81.839535\n",
       "Freq: A-DEC, Name: IPG3113N, dtype: float64"
      ]
     },
     "execution_count": 61,
     "metadata": {},
     "output_type": "execute_result"
    }
   ],
   "source": [
    "##We are vehemently seeing that the dataset is evenly distruibuted between each other \n",
    "#Now resampling to the year to see a General overview of how the demand was per year\n",
    "this_dataset_year = this_dataset.resample('Y').mean() \n",
    "this_dataset_year.head()"
   ]
  },
  {
   "cell_type": "code",
   "execution_count": 62,
   "metadata": {},
   "outputs": [
    {
     "data": {
      "image/png": "[encoded data removed]",
      "text/plain": [
       "<Figure size 432x288 with 1 Axes>"
      ]
     },
     "metadata": {
      "needs_background": "light"
     },
     "output_type": "display_data"
    }
   ],
   "source": [
    "#plotting to see how the dataset was\n",
    "this_dataset_year.plot()\n",
    "plt.show()"
   ]
  },
  {
   "cell_type": "code",
   "execution_count": 63,
   "metadata": {},
   "outputs": [
    {
     "data": {
      "text/html": [
       "<div>\n",
       "<style scoped>\n",
       "    .dataframe tbody tr th:only-of-type {\n",
       "        vertical-align: middle;\n",
       "    }\n",
       "\n",
       "    .dataframe tbody tr th {\n",
       "        vertical-align: top;\n",
       "    }\n",
       "\n",
       "    .dataframe thead th {\n",
       "        text-align: right;\n",
       "    }\n",
       "</style>\n",
       "<table border=\"1\" class=\"dataframe\">\n",
       "  <thead>\n",
       "    <tr style=\"text-align: right;\">\n",
       "      <th></th>\n",
       "      <th>IPG3113N</th>\n",
       "    </tr>\n",
       "    <tr>\n",
       "      <th>observation_date</th>\n",
       "      <th></th>\n",
       "    </tr>\n",
       "  </thead>\n",
       "  <tbody>\n",
       "    <tr>\n",
       "      <td>1972-01-01</td>\n",
       "      <td>85.69450</td>\n",
       "    </tr>\n",
       "    <tr>\n",
       "      <td>1972-01-31</td>\n",
       "      <td>78.75725</td>\n",
       "    </tr>\n",
       "    <tr>\n",
       "      <td>1972-02-01</td>\n",
       "      <td>71.82000</td>\n",
       "    </tr>\n",
       "    <tr>\n",
       "      <td>1972-02-29</td>\n",
       "      <td>68.92145</td>\n",
       "    </tr>\n",
       "    <tr>\n",
       "      <td>1972-03-01</td>\n",
       "      <td>66.02290</td>\n",
       "    </tr>\n",
       "  </tbody>\n",
       "</table>\n",
       "</div>"
      ],
      "text/plain": [
       "                  IPG3113N\n",
       "observation_date          \n",
       "1972-01-01        85.69450\n",
       "1972-01-31        78.75725\n",
       "1972-02-01        71.82000\n",
       "1972-02-29        68.92145\n",
       "1972-03-01        66.02290"
      ]
     },
     "execution_count": 63,
     "metadata": {},
     "output_type": "execute_result"
    }
   ],
   "source": [
    "#Now check how much each month\n",
    "this_dataset_df = this_dataset.to_frame()\n",
    "this_dataset_df.head()"
   ]
  },
  {
   "cell_type": "code",
   "execution_count": 66,
   "metadata": {},
   "outputs": [
    {
     "data": {
      "text/plain": [
       "DatetimeIndex(['1972-01-01', '1972-01-31', '1972-02-01', '1972-02-29',\n",
       "               '1972-03-01', '1972-03-31', '1972-04-01', '1972-04-30',\n",
       "               '1972-05-01', '1972-05-31',\n",
       "               ...\n",
       "               '2017-04-01', '2017-04-30', '2017-05-01', '2017-05-31',\n",
       "               '2017-06-01', '2017-06-30', '2017-07-01', '2017-07-31',\n",
       "               '2017-08-01', '2017-08-31'],\n",
       "              dtype='datetime64[ns]', name='observation_date', length=1096, freq=None)"
      ]
     },
     "execution_count": 66,
     "metadata": {},
     "output_type": "execute_result"
    }
   ],
   "source": [
    "this_dataset_df.index\n"
   ]
  },
  {
   "cell_type": "code",
   "execution_count": 68,
   "metadata": {},
   "outputs": [
    {
     "data": {
      "text/html": [
       "<div>\n",
       "<style scoped>\n",
       "    .dataframe tbody tr th:only-of-type {\n",
       "        vertical-align: middle;\n",
       "    }\n",
       "\n",
       "    .dataframe tbody tr th {\n",
       "        vertical-align: top;\n",
       "    }\n",
       "\n",
       "    .dataframe thead th {\n",
       "        text-align: right;\n",
       "    }\n",
       "</style>\n",
       "<table border=\"1\" class=\"dataframe\">\n",
       "  <thead>\n",
       "    <tr style=\"text-align: right;\">\n",
       "      <th></th>\n",
       "      <th>IPG3113N</th>\n",
       "      <th>Month</th>\n",
       "    </tr>\n",
       "    <tr>\n",
       "      <th>observation_date</th>\n",
       "      <th></th>\n",
       "      <th></th>\n",
       "    </tr>\n",
       "  </thead>\n",
       "  <tbody>\n",
       "    <tr>\n",
       "      <td>1972-01-01</td>\n",
       "      <td>85.69450</td>\n",
       "      <td>1</td>\n",
       "    </tr>\n",
       "    <tr>\n",
       "      <td>1972-01-31</td>\n",
       "      <td>78.75725</td>\n",
       "      <td>1</td>\n",
       "    </tr>\n",
       "    <tr>\n",
       "      <td>1972-02-01</td>\n",
       "      <td>71.82000</td>\n",
       "      <td>2</td>\n",
       "    </tr>\n",
       "    <tr>\n",
       "      <td>1972-02-29</td>\n",
       "      <td>68.92145</td>\n",
       "      <td>2</td>\n",
       "    </tr>\n",
       "    <tr>\n",
       "      <td>1972-03-01</td>\n",
       "      <td>66.02290</td>\n",
       "      <td>3</td>\n",
       "    </tr>\n",
       "  </tbody>\n",
       "</table>\n",
       "</div>"
      ],
      "text/plain": [
       "                  IPG3113N  Month\n",
       "observation_date                 \n",
       "1972-01-01        85.69450      1\n",
       "1972-01-31        78.75725      1\n",
       "1972-02-01        71.82000      2\n",
       "1972-02-29        68.92145      2\n",
       "1972-03-01        66.02290      3"
      ]
     },
     "execution_count": 68,
     "metadata": {},
     "output_type": "execute_result"
    }
   ],
   "source": [
    "this_dataset_df['Month'] = this_dataset_df.index.month\n",
    "this_dataset_df.head()"
   ]
  },
  {
   "cell_type": "code",
   "execution_count": 96,
   "metadata": {},
   "outputs": [],
   "source": [
    "this_dataset_df.replace([1,2,3,4,5,6,7,8,9,10,11,12], ['JAN', 'FEB','MAR','APR','MAY','JUNE','JULY','AUG','SEP','OCT','NOV','DEC'], inplace=True)"
   ]
  },
  {
   "cell_type": "code",
   "execution_count": 97,
   "metadata": {},
   "outputs": [],
   "source": [
    "this_dataset_df.columns = [\"Amount\", \"Month\"]"
   ]
  },
  {
   "cell_type": "code",
   "execution_count": 98,
   "metadata": {},
   "outputs": [
    {
     "data": {
      "text/html": [
       "<div>\n",
       "<style scoped>\n",
       "    .dataframe tbody tr th:only-of-type {\n",
       "        vertical-align: middle;\n",
       "    }\n",
       "\n",
       "    .dataframe tbody tr th {\n",
       "        vertical-align: top;\n",
       "    }\n",
       "\n",
       "    .dataframe thead th {\n",
       "        text-align: right;\n",
       "    }\n",
       "</style>\n",
       "<table border=\"1\" class=\"dataframe\">\n",
       "  <thead>\n",
       "    <tr style=\"text-align: right;\">\n",
       "      <th></th>\n",
       "      <th>Amount</th>\n",
       "      <th>Month</th>\n",
       "    </tr>\n",
       "    <tr>\n",
       "      <th>observation_date</th>\n",
       "      <th></th>\n",
       "      <th></th>\n",
       "    </tr>\n",
       "  </thead>\n",
       "  <tbody>\n",
       "    <tr>\n",
       "      <td>1972-01-01</td>\n",
       "      <td>85.69450</td>\n",
       "      <td>JAN</td>\n",
       "    </tr>\n",
       "    <tr>\n",
       "      <td>1972-01-31</td>\n",
       "      <td>78.75725</td>\n",
       "      <td>JAN</td>\n",
       "    </tr>\n",
       "    <tr>\n",
       "      <td>1972-02-01</td>\n",
       "      <td>71.82000</td>\n",
       "      <td>FEB</td>\n",
       "    </tr>\n",
       "    <tr>\n",
       "      <td>1972-02-29</td>\n",
       "      <td>68.92145</td>\n",
       "      <td>FEB</td>\n",
       "    </tr>\n",
       "    <tr>\n",
       "      <td>1972-03-01</td>\n",
       "      <td>66.02290</td>\n",
       "      <td>MAR</td>\n",
       "    </tr>\n",
       "  </tbody>\n",
       "</table>\n",
       "</div>"
      ],
      "text/plain": [
       "                    Amount Month\n",
       "observation_date                \n",
       "1972-01-01        85.69450   JAN\n",
       "1972-01-31        78.75725   JAN\n",
       "1972-02-01        71.82000   FEB\n",
       "1972-02-29        68.92145   FEB\n",
       "1972-03-01        66.02290   MAR"
      ]
     },
     "execution_count": 98,
     "metadata": {},
     "output_type": "execute_result"
    }
   ],
   "source": [
    "this_dataset_df.head()"
   ]
  },
  {
   "cell_type": "code",
   "execution_count": 99,
   "metadata": {
    "scrolled": true
   },
   "outputs": [
    {
     "data": {
      "text/html": [
       "<div>\n",
       "<style scoped>\n",
       "    .dataframe tbody tr th:only-of-type {\n",
       "        vertical-align: middle;\n",
       "    }\n",
       "\n",
       "    .dataframe tbody tr th {\n",
       "        vertical-align: top;\n",
       "    }\n",
       "\n",
       "    .dataframe thead th {\n",
       "        text-align: right;\n",
       "    }\n",
       "</style>\n",
       "<table border=\"1\" class=\"dataframe\">\n",
       "  <thead>\n",
       "    <tr style=\"text-align: right;\">\n",
       "      <th></th>\n",
       "      <th>Amount</th>\n",
       "    </tr>\n",
       "    <tr>\n",
       "      <th>Month</th>\n",
       "      <th></th>\n",
       "    </tr>\n",
       "  </thead>\n",
       "  <tbody>\n",
       "    <tr>\n",
       "      <td>JAN</td>\n",
       "      <td>92</td>\n",
       "    </tr>\n",
       "    <tr>\n",
       "      <td>FEB</td>\n",
       "      <td>92</td>\n",
       "    </tr>\n",
       "    <tr>\n",
       "      <td>MAR</td>\n",
       "      <td>92</td>\n",
       "    </tr>\n",
       "    <tr>\n",
       "      <td>APR</td>\n",
       "      <td>92</td>\n",
       "    </tr>\n",
       "    <tr>\n",
       "      <td>MAY</td>\n",
       "      <td>92</td>\n",
       "    </tr>\n",
       "    <tr>\n",
       "      <td>JUNE</td>\n",
       "      <td>92</td>\n",
       "    </tr>\n",
       "    <tr>\n",
       "      <td>JULY</td>\n",
       "      <td>92</td>\n",
       "    </tr>\n",
       "    <tr>\n",
       "      <td>AUGUST</td>\n",
       "      <td>92</td>\n",
       "    </tr>\n",
       "    <tr>\n",
       "      <td>SEPTEMBER</td>\n",
       "      <td>90</td>\n",
       "    </tr>\n",
       "    <tr>\n",
       "      <td>OCTOBER</td>\n",
       "      <td>90</td>\n",
       "    </tr>\n",
       "    <tr>\n",
       "      <td>NOVEMBER</td>\n",
       "      <td>90</td>\n",
       "    </tr>\n",
       "    <tr>\n",
       "      <td>DECEMBER</td>\n",
       "      <td>90</td>\n",
       "    </tr>\n",
       "  </tbody>\n",
       "</table>\n",
       "</div>"
      ],
      "text/plain": [
       "           Amount\n",
       "Month            \n",
       "JAN            92\n",
       "FEB            92\n",
       "MAR            92\n",
       "APR            92\n",
       "MAY            92\n",
       "JUNE           92\n",
       "JULY           92\n",
       "AUGUST         92\n",
       "SEPTEMBER      90\n",
       "OCTOBER        90\n",
       "NOVEMBER       90\n",
       "DECEMBER       90"
      ]
     },
     "execution_count": 99,
     "metadata": {},
     "output_type": "execute_result"
    }
   ],
   "source": [
    "the_groups = this_dataset_df.groupby(\"Month\", sort=False)\n",
    "the_groups.count()"
   ]
  },
  {
   "cell_type": "code",
   "execution_count": 100,
   "metadata": {},
   "outputs": [
    {
     "data": {
      "text/html": [
       "<div>\n",
       "<style scoped>\n",
       "    .dataframe tbody tr th:only-of-type {\n",
       "        vertical-align: middle;\n",
       "    }\n",
       "\n",
       "    .dataframe tbody tr th {\n",
       "        vertical-align: top;\n",
       "    }\n",
       "\n",
       "    .dataframe thead th {\n",
       "        text-align: right;\n",
       "    }\n",
       "</style>\n",
       "<table border=\"1\" class=\"dataframe\">\n",
       "  <thead>\n",
       "    <tr style=\"text-align: right;\">\n",
       "      <th></th>\n",
       "      <th>Amount</th>\n",
       "    </tr>\n",
       "    <tr>\n",
       "      <th>Month</th>\n",
       "      <th></th>\n",
       "    </tr>\n",
       "  </thead>\n",
       "  <tbody>\n",
       "    <tr>\n",
       "      <td>JAN</td>\n",
       "      <td>102.205150</td>\n",
       "    </tr>\n",
       "    <tr>\n",
       "      <td>FEB</td>\n",
       "      <td>97.631777</td>\n",
       "    </tr>\n",
       "    <tr>\n",
       "      <td>MAR</td>\n",
       "      <td>91.733904</td>\n",
       "    </tr>\n",
       "    <tr>\n",
       "      <td>APR</td>\n",
       "      <td>88.710681</td>\n",
       "    </tr>\n",
       "    <tr>\n",
       "      <td>MAY</td>\n",
       "      <td>89.316648</td>\n",
       "    </tr>\n",
       "  </tbody>\n",
       "</table>\n",
       "</div>"
      ],
      "text/plain": [
       "           Amount\n",
       "Month            \n",
       "JAN    102.205150\n",
       "FEB     97.631777\n",
       "MAR     91.733904\n",
       "APR     88.710681\n",
       "MAY     89.316648"
      ]
     },
     "execution_count": 100,
     "metadata": {},
     "output_type": "execute_result"
    }
   ],
   "source": [
    "final_values.head()"
   ]
  },
  {
   "cell_type": "code",
   "execution_count": 101,
   "metadata": {},
   "outputs": [
    {
     "data": {
      "text/plain": [
       "<Figure size 1600x800 with 0 Axes>"
      ]
     },
     "metadata": {},
     "output_type": "display_data"
    },
    {
     "data": {
      "image/png": "[encoded data removed]",
      "text/plain": [
       "<Figure size 432x288 with 1 Axes>"
      ]
     },
     "metadata": {
      "needs_background": "light"
     },
     "output_type": "display_data"
    }
   ],
   "source": [
    "aggregation = {\"Amount\":\"mean\"}\n",
    "final_values = the_groups.agg(aggregation)\n",
    "#plt.xticks(['JAN', 'FEB','MAR','APR','MAY','JUNE','JULY','AUG','SEP','OCT','NOV','DEC'])\n",
    "plt.figure(num=None, figsize=(20, 10), dpi=80, facecolor='w', edgecolor='k')\n",
    "\n",
    "final_values.plot()\n",
    "plt.show()"
   ]
  },
  {
   "cell_type": "code",
   "execution_count": null,
   "metadata": {},
   "outputs": [],
   "source": []
  }
 ],
 "metadata": {
  "kernelspec": {
   "display_name": "Python 3",
   "language": "python",
   "name": "python3"
  },
  "language_info": {
   "codemirror_mode": {
    "name": "ipython",
    "version": 3
   },
   "file_extension": ".py",
   "mimetype": "text/x-python",
   "name": "python",
   "nbconvert_exporter": "python",
   "pygments_lexer": "ipython3",
   "version": "3.7.4"
  }
 },
 "nbformat": 4,
 "nbformat_minor": 2
}
